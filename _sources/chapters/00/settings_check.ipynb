{
 "cells": [
  {
   "cell_type": "markdown",
   "metadata": {},
   "source": [
    "# Local Settings Check \n",
    "To check your local settings, download this book by the button at the upper right corner and run it."
   ]
  },
  {
   "cell_type": "code",
   "execution_count": 1,
   "metadata": {},
   "outputs": [
    {
     "name": "stdout",
     "output_type": "stream",
     "text": [
      "[0] e:\\GitHub\\molass-tutorial\\chapters\\local_settings.py does not exist\n",
      "[1] e:\\GitHub\\molass-tutorial\\local_settings.py does not exist\n",
      "[2] e:\\GitHub\\local_settings.py found\n",
      "E:\\MolassData\\tutorial_data\n",
      "E:\\MolassData\\simulated_data\n"
     ]
    }
   ],
   "source": [
    "from molass.Local import get_local_settings\n",
    "local_settings = get_local_settings(debug=True)\n",
    "TUTORIAL_DATA = local_settings['TUTORIAL_DATA']\n",
    "SIMULATED_DATA = local_settings['SIMULATED_DATA']\n",
    "print(TUTORIAL_DATA)\n",
    "print(SIMULATED_DATA)"
   ]
  },
  {
   "cell_type": "markdown",
   "metadata": {},
   "source": [
    "If the folder locations are printed as expected, you are ready to start."
   ]
  }
 ],
 "metadata": {
  "kernelspec": {
   "display_name": "Python 3",
   "language": "python",
   "name": "python3"
  },
  "language_info": {
   "codemirror_mode": {
    "name": "ipython",
    "version": 3
   },
   "file_extension": ".py",
   "mimetype": "text/x-python",
   "name": "python",
   "nbconvert_exporter": "python",
   "pygments_lexer": "ipython3",
   "version": "3.12.8"
  }
 },
 "nbformat": 4,
 "nbformat_minor": 2
}
