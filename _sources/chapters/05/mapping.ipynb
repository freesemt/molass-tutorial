{
 "cells": [
  {
   "cell_type": "markdown",
   "id": "b5ee9972",
   "metadata": {},
   "source": [
    "# Mapping between UV and X-ray"
   ]
  },
  {
   "cell_type": "code",
   "execution_count": 1,
   "id": "6ecfe58f",
   "metadata": {},
   "outputs": [],
   "source": [
    "import matplotlib.pyplot as plt\n",
    "from molass.Local import get_local_settings\n",
    "local_settings = get_local_settings()\n",
    "TUTORIAL_DATA = local_settings['TUTORIAL_DATA']"
   ]
  }
 ],
 "metadata": {
  "kernelspec": {
   "display_name": "Python 3",
   "language": "python",
   "name": "python3"
  },
  "language_info": {
   "codemirror_mode": {
    "name": "ipython",
    "version": 3
   },
   "file_extension": ".py",
   "mimetype": "text/x-python",
   "name": "python",
   "nbconvert_exporter": "python",
   "pygments_lexer": "ipython3",
   "version": "3.12.9"
  }
 },
 "nbformat": 4,
 "nbformat_minor": 5
}
