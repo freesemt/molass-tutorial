{
 "cells": [
  {
   "cell_type": "markdown",
   "id": "2c53d4b1",
   "metadata": {},
   "source": [
    "# SEC Simulation"
   ]
  },
  {
   "cell_type": "code",
   "execution_count": 1,
   "id": "b5e4e6ce",
   "metadata": {},
   "outputs": [],
   "source": [
    "import sys\n",
    "sys.path.insert(0, r\"D:\\GitHub\\molass-library\")\n",
    "from molass import get_version\n",
    "assert get_version() >= '0.0.6'"
   ]
  },
  {
   "cell_type": "code",
   "execution_count": 2,
   "id": "a0e0608f",
   "metadata": {},
   "outputs": [
    {
     "name": "stdout",
     "output_type": "stream",
     "text": [
      "radius_map= [0.008 0.003 0.001]\n"
     ]
    },
    {
     "name": "stderr",
     "output_type": "stream",
     "text": [
      "  0%|          | 0/400 [00:00<?, ?it/s]"
     ]
    }
   ],
   "source": [
    "from molass.Stochastic.ColumnSimulation import get_animation\n",
    "anim = get_animation(num_frames=400, return_init=False)"
   ]
  },
  {
   "cell_type": "code",
   "execution_count": 3,
   "id": "441ac718",
   "metadata": {},
   "outputs": [
    {
     "name": "stderr",
     "output_type": "stream",
     "text": [
      "  1%|          | 4/400 [00:10<15:51,  2.40s/it]D:\\GitHub\\molass-library\\molass\\Stochastic\\StationaryMove.py:73: RuntimeWarning: divide by zero encountered in scalar divide\n",
      "  m = (py - cy)/(px - cx)\n",
      "D:\\GitHub\\molass-library\\molass\\Stochastic\\StationaryMove.py:51: RuntimeWarning: invalid value encountered in scalar add\n",
      "  temp = -2 * (a * x1 + b * y1 + c) /(a * a + b * b)\n",
      "100%|█████████▉| 399/400 [15:08<00:02,  2.30s/it]"
     ]
    }
   ],
   "source": [
    "display_html = False\n",
    "if display_html:\n",
    "    # Display the animation in a Jupyter notebook\n",
    "    from IPython.display import HTML\n",
    "    HTML(anim.to_jshtml())\n",
    "else:\n",
    "    # Save the animation as an HTML file\n",
    "    anim.save(\"sec-saxs.gif\")"
   ]
  }
 ],
 "metadata": {
  "kernelspec": {
   "display_name": "Python 3",
   "language": "python",
   "name": "python3"
  },
  "language_info": {
   "codemirror_mode": {
    "name": "ipython",
    "version": 3
   },
   "file_extension": ".py",
   "mimetype": "text/x-python",
   "name": "python",
   "nbconvert_exporter": "python",
   "pygments_lexer": "ipython3",
   "version": "3.12.9"
  }
 },
 "nbformat": 4,
 "nbformat_minor": 5
}
