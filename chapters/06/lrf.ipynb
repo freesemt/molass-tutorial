{
 "cells": [
  {
   "cell_type": "markdown",
   "id": "b5ee9972",
   "metadata": {},
   "source": [
    "# Low Rank Factorization"
   ]
  },
  {
   "cell_type": "code",
   "execution_count": null,
   "id": "6ecfe58f",
   "metadata": {},
   "outputs": [],
   "source": []
  }
 ],
 "metadata": {
  "kernelspec": {
   "display_name": "Python 3",
   "language": "python",
   "name": "python3"
  },
  "language_info": {
   "name": "python",
   "version": "3.12.9"
  }
 },
 "nbformat": 4,
 "nbformat_minor": 5
}
